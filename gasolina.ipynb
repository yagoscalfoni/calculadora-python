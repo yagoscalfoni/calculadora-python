{
 "cells": [
  {
   "cell_type": "markdown",
   "metadata": {},
   "source": [
    "# Calculadora de gasto de viagem"
   ]
  },
  {
   "cell_type": "markdown",
   "metadata": {},
   "source": [
    "Calculadora de gasto de gasolina com API do Google Maps Directions\n",
    "\n",
    "Utilizando a distância do ponto de origem ao destino para o cálculo."
   ]
  },
  {
   "cell_type": "code",
   "execution_count": 14,
   "metadata": {},
   "outputs": [],
   "source": [
    "import urllib.request\n",
    "import json"
   ]
  },
  {
   "cell_type": "code",
   "execution_count": 15,
   "metadata": {},
   "outputs": [
    {
     "name": "stdout",
     "output_type": "stream",
     "text": [
      ""
     ]
    }
   ],
   "source": [
    "link = 'https://maps.googleapis.com/maps/api/directions/json?'\n",
    "api_key = "",
    "\n",
    "cidade = input('Digite a cidade de origem: ').replace(' ','+')\n",
    "estado = input('Digite o estado de origem: ').replace(' ','+').upper()\n",
    "destino = input('Digite a cidade e estado de destino: ').replace(' ','+')\n",
    "\n",
    "url = (f'origin={cidade + estado}&destination={destino}&key={api_key}')\n",
    "url_completa = link + url\n",
    "\n",
    "ler = urllib.request.urlopen(url_completa).read() # Leitura da página\n",
    "\n",
    "page = json.loads(ler) # Nos mostra a página como JSON\n"
   ]
  },
  {
   "cell_type": "markdown",
   "metadata": {},
   "source": [
    "Precisamos da distância para fazer os cálculos e os valores se encontram nas listas e dicionários que foram mostrados.\n",
    "\n",
    "Acessando eles logo abaixo.\n"
   ]
  },
  {
   "cell_type": "code",
   "execution_count": 16,
   "metadata": {},
   "outputs": [],
   "source": [
    "distancia_metros = page['routes'][0]['legs'][0]['distance'].get('value') # O valor está em metros, precisamos passar para KM.\n",
    "distancia_km = round(distancia_metros / 1000)"
   ]
  },
  {
   "cell_type": "markdown",
   "metadata": {},
   "source": [
    "Peguei a média dos preços da gasolina por estado no Brasil e coloquei em um dicionário.\n",
    "\n",
    "Os preços são de 02/02/22\n",
    "\n",
    "Agora só acessar os valores no dicionário através do input do usuário e assim finalizando com o resultado final! :D"
   ]
  },
  {
   "cell_type": "code",
   "execution_count": 17,
   "metadata": {},
   "outputs": [
    {
     "name": "stdout",
     "output_type": "stream",
     "text": [
      "O valor gasto será de um total de R$47\n"
     ]
    }
   ],
   "source": [
    "preco = {'AC': 7.04, 'AL': 6.54, 'AP': 5.90, 'AM': 6.61 , 'BA': 7.02, 'CE': 6.59,\n",
    "         'DF' : 6.88, 'ES': 6.85, 'GO' : 7.10, 'MA': 6.49,'MT': 6.52, 'MS': 6.47, \n",
    "         'MG' : 6.96, 'PA': 6.81, 'PB': 6.49, 'PR': 6.49 , 'PE': 6.54, 'PI': 6.90, \n",
    "         'RJ': 7.19, 'RN': 7.09, 'RS': 6.48, 'RO': 6.76, 'RR': 6.50, 'SC': 6.55, \n",
    "         'SP': 6.37, 'SE': 6.52, 'TO': 6.85}\n",
    "\n",
    "consumo = float(input(\"Digite a média de consumo do seu veículo: \"))\n",
    "\n",
    "valor_gasto_km = preco.get(estado) / consumo\n",
    "\n",
    "valor_gasto_total = round(distancia_km * valor_gasto_km)\n",
    "\n",
    "print(f\"O valor gasto será de um total de R${valor_gasto_total}\")"
   ]
  }
 ],
 "metadata": {
  "kernelspec": {
   "display_name": "Python 3.10.4 64-bit",
   "language": "python",
   "name": "python3"
  },
  "language_info": {
   "codemirror_mode": {
    "name": "ipython",
    "version": 3
   },
   "file_extension": ".py",
   "mimetype": "text/x-python",
   "name": "python",
   "nbconvert_exporter": "python",
   "pygments_lexer": "ipython3",
   "version": "3.10.4"
  },
  "orig_nbformat": 4,
  "vscode": {
   "interpreter": {
    "hash": "9a57213f05611199eb2bdfc3179522aab3df32f493b8ce8fee1681f1cabb841c"
   }
  }
 },
 "nbformat": 4,
 "nbformat_minor": 2
}
