{
 "cells": [
  {
   "cell_type": "markdown",
   "metadata": {},
   "source": [
    "# Calculadora de gasto de viagem"
   ]
  },
  {
   "cell_type": "markdown",
   "metadata": {},
   "source": [
    "Primeiramente precisamos importar as variáveis de ambiente"
   ]
  },
  {
   "cell_type": "code",
   "execution_count": 1,
   "metadata": {},
   "outputs": [
    {
     "name": "stdout",
     "output_type": "stream",
     "text": [
      "exemplo\n"
     ]
    }
   ],
   "source": [
    "import os\n",
    "\n",
    "from dotenv import load_dotenv, find_dotenv\n",
    "\n",
    "load_dotenv(find_dotenv())"
   ]
  },
  {
   "cell_type": "markdown",
   "metadata": {},
   "source": [
    "Calculadora de gasto de gasolina com API do Google Maps Directions\n",
    "\n",
    "Utilizando a distância do ponto de origem ao destino para o cálculo."
   ]
  },
  {
   "cell_type": "code",
   "execution_count": null,
   "metadata": {},
   "outputs": [],
   "source": [
    "import urllib.request\n",
    "import json"
   ]
  },
  {
   "cell_type": "code",
   "execution_count": 2,
   "metadata": {},
   "outputs": [
    {
     "ename": "NameError",
     "evalue": "name 'urllib' is not defined",
     "output_type": "error",
     "traceback": [
      "\u001b[1;31m---------------------------------------------------------------------------\u001b[0m",
      "\u001b[1;31mNameError\u001b[0m                                 Traceback (most recent call last)",
      "\u001b[1;32mc:\\xampp\\htdocs\\y\\calculadora-python\\main.ipynb Cell 6'\u001b[0m in \u001b[0;36m<cell line: 11>\u001b[1;34m()\u001b[0m\n\u001b[0;32m      <a href='vscode-notebook-cell:/c%3A/xampp/htdocs/y/calculadora-python/main.ipynb#ch0000003?line=7'>8</a>\u001b[0m url \u001b[39m=\u001b[39m (\u001b[39mf\u001b[39m\u001b[39m'\u001b[39m\u001b[39morigin=\u001b[39m\u001b[39m{\u001b[39;00mcidade \u001b[39m+\u001b[39m estado\u001b[39m}\u001b[39;00m\u001b[39m&destination=\u001b[39m\u001b[39m{\u001b[39;00mdestino\u001b[39m}\u001b[39;00m\u001b[39m&key=\u001b[39m\u001b[39m{\u001b[39;00mapi_key\u001b[39m}\u001b[39;00m\u001b[39m'\u001b[39m)\n\u001b[0;32m      <a href='vscode-notebook-cell:/c%3A/xampp/htdocs/y/calculadora-python/main.ipynb#ch0000003?line=8'>9</a>\u001b[0m url_completa \u001b[39m=\u001b[39m link \u001b[39m+\u001b[39m url\n\u001b[1;32m---> <a href='vscode-notebook-cell:/c%3A/xampp/htdocs/y/calculadora-python/main.ipynb#ch0000003?line=10'>11</a>\u001b[0m ler \u001b[39m=\u001b[39m urllib\u001b[39m.\u001b[39mrequest\u001b[39m.\u001b[39murlopen(url_completa)\u001b[39m.\u001b[39mread() \u001b[39m# Leitura da página\u001b[39;00m\n\u001b[0;32m     <a href='vscode-notebook-cell:/c%3A/xampp/htdocs/y/calculadora-python/main.ipynb#ch0000003?line=12'>13</a>\u001b[0m page \u001b[39m=\u001b[39m json\u001b[39m.\u001b[39mloads(ler)\n",
      "\u001b[1;31mNameError\u001b[0m: name 'urllib' is not defined"
     ]
    }
   ],
   "source": [
    "link = 'https://maps.googleapis.com/maps/api/directions/json?'\n",
    "api_key = os.getenv('API_KEY')\n",
    "\n",
    "cidade = input('Digite a cidade de origem: ').replace(' ','+')\n",
    "estado = input('Digite o estado de origem: ').replace(' ','+').upper()\n",
    "destino = input('Digite a cidade e estado de destino: ').replace(' ','+')\n",
    "\n",
    "url = (f'origin={cidade + estado}&destination={destino}&key={api_key}')\n",
    "url_completa = link + url\n",
    "\n",
    "ler = urllib.request.urlopen(url_completa).read() # Leitura da página\n",
    "\n",
    "page = json.loads(ler) # Nos mostra a página como JSON\n"
   ]
  },
  {
   "cell_type": "markdown",
   "metadata": {},
   "source": [
    "Precisamos da distância para fazer os cálculos e os valores se encontram nas listas e dicionários que foram mostrados.\n",
    "\n",
    "Acessando eles logo abaixo.\n"
   ]
  },
  {
   "cell_type": "code",
   "execution_count": null,
   "metadata": {},
   "outputs": [],
   "source": [
    "distancia_metros = page['routes'][0]['legs'][0]['distance'].get('value') # O valor está em metros, precisamos passar para KM.\n",
    "distancia_km = round(distancia_metros / 1000)"
   ]
  },
  {
   "cell_type": "markdown",
   "metadata": {},
   "source": [
    "Peguei a média dos preços da gasolina por estado no Brasil e coloquei em um dicionário.\n",
    "\n",
    "Os preços são de 02/02/22\n",
    "\n",
    "Agora só acessar os valores no dicionário através do input do usuário e assim finalizando com o resultado final! :D"
   ]
  },
  {
   "cell_type": "code",
   "execution_count": null,
   "metadata": {},
   "outputs": [],
   "source": [
    "preco = {'AC': 7.04, 'AL': 6.54, 'AP': 5.90, 'AM': 6.61 , 'BA': 7.02, 'CE': 6.59,\n",
    "         'DF' : 6.88, 'ES': 6.85, 'GO' : 7.10, 'MA': 6.49,'MT': 6.52, 'MS': 6.47, \n",
    "         'MG' : 6.96, 'PA': 6.81, 'PB': 6.49, 'PR': 6.49 , 'PE': 6.54, 'PI': 6.90, \n",
    "         'RJ': 7.19, 'RN': 7.09, 'RS': 6.48, 'RO': 6.76, 'RR': 6.50, 'SC': 6.55, \n",
    "         'SP': 6.37, 'SE': 6.52, 'TO': 6.85}\n",
    "\n",
    "consumo = float(input(\"Digite a média de consumo do seu veículo: \"))\n",
    "\n",
    "valor_gasto_km = preco.get(estado) / consumo\n",
    "\n",
    "valor_gasto_total = round(distancia_km * valor_gasto_km)\n",
    "\n",
    "print(f\"O valor gasto será de um total de R${valor_gasto_total}\")"
   ]
  }
 ],
 "metadata": {
  "kernelspec": {
   "display_name": "Python 3.10.5 64-bit (windows store)",
   "language": "python",
   "name": "python3"
  },
  "language_info": {
   "codemirror_mode": {
    "name": "ipython",
    "version": 3
   },
   "file_extension": ".py",
   "mimetype": "text/x-python",
   "name": "python",
   "nbconvert_exporter": "python",
   "pygments_lexer": "ipython3",
   "version": "3.10.5"
  },
  "orig_nbformat": 4,
  "vscode": {
   "interpreter": {
    "hash": "7240ea951ceaba11e29eac9de981dee739bdf7955bec6037107e9ed0cae0a328"
   }
  }
 },
 "nbformat": 4,
 "nbformat_minor": 2
}
